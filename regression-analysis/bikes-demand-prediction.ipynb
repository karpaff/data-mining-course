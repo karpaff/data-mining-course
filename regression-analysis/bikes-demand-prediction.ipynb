{
 "cells": [
  {
   "cell_type": "code",
   "execution_count": 100,
   "id": "0fa5cfdc-ae0c-4880-b2a6-76429effd6a7",
   "metadata": {},
   "outputs": [],
   "source": [
    "import pandas as pd"
   ]
  },
  {
   "cell_type": "code",
   "execution_count": 101,
   "id": "e15f3c38-abd5-42b6-b492-ddda777de3e7",
   "metadata": {},
   "outputs": [],
   "source": [
    "data = pd.read_csv('SeoulBikeData.csv', encoding='ISO-8859-1')"
   ]
  },
  {
   "cell_type": "markdown",
   "id": "49d64baa-60e1-4f48-8245-d03854f8238e",
   "metadata": {},
   "source": [
    "## 1. Описательный анализ"
   ]
  },
  {
   "cell_type": "code",
   "execution_count": 102,
   "id": "c8c055f8-6501-49b4-a240-2f6e7e385b60",
   "metadata": {},
   "outputs": [
    {
     "data": {
      "text/html": [
       "<div>\n",
       "<style scoped>\n",
       "    .dataframe tbody tr th:only-of-type {\n",
       "        vertical-align: middle;\n",
       "    }\n",
       "\n",
       "    .dataframe tbody tr th {\n",
       "        vertical-align: top;\n",
       "    }\n",
       "\n",
       "    .dataframe thead th {\n",
       "        text-align: right;\n",
       "    }\n",
       "</style>\n",
       "<table border=\"1\" class=\"dataframe\">\n",
       "  <thead>\n",
       "    <tr style=\"text-align: right;\">\n",
       "      <th></th>\n",
       "      <th>Date</th>\n",
       "      <th>Rented Bike Count</th>\n",
       "      <th>Hour</th>\n",
       "      <th>Temperature(°C)</th>\n",
       "      <th>Humidity(%)</th>\n",
       "      <th>Wind speed (m/s)</th>\n",
       "      <th>Visibility (10m)</th>\n",
       "      <th>Dew point temperature(°C)</th>\n",
       "      <th>Solar Radiation (MJ/m2)</th>\n",
       "      <th>Rainfall(mm)</th>\n",
       "      <th>Snowfall (cm)</th>\n",
       "      <th>Seasons</th>\n",
       "      <th>Holiday</th>\n",
       "      <th>Functioning Day</th>\n",
       "    </tr>\n",
       "  </thead>\n",
       "  <tbody>\n",
       "    <tr>\n",
       "      <th>0</th>\n",
       "      <td>01/12/2017</td>\n",
       "      <td>254</td>\n",
       "      <td>0</td>\n",
       "      <td>-5.2</td>\n",
       "      <td>37</td>\n",
       "      <td>2.2</td>\n",
       "      <td>2000</td>\n",
       "      <td>-17.6</td>\n",
       "      <td>0.0</td>\n",
       "      <td>0.0</td>\n",
       "      <td>0.0</td>\n",
       "      <td>Winter</td>\n",
       "      <td>No Holiday</td>\n",
       "      <td>Yes</td>\n",
       "    </tr>\n",
       "    <tr>\n",
       "      <th>1</th>\n",
       "      <td>01/12/2017</td>\n",
       "      <td>204</td>\n",
       "      <td>1</td>\n",
       "      <td>-5.5</td>\n",
       "      <td>38</td>\n",
       "      <td>0.8</td>\n",
       "      <td>2000</td>\n",
       "      <td>-17.6</td>\n",
       "      <td>0.0</td>\n",
       "      <td>0.0</td>\n",
       "      <td>0.0</td>\n",
       "      <td>Winter</td>\n",
       "      <td>No Holiday</td>\n",
       "      <td>Yes</td>\n",
       "    </tr>\n",
       "    <tr>\n",
       "      <th>2</th>\n",
       "      <td>01/12/2017</td>\n",
       "      <td>173</td>\n",
       "      <td>2</td>\n",
       "      <td>-6.0</td>\n",
       "      <td>39</td>\n",
       "      <td>1.0</td>\n",
       "      <td>2000</td>\n",
       "      <td>-17.7</td>\n",
       "      <td>0.0</td>\n",
       "      <td>0.0</td>\n",
       "      <td>0.0</td>\n",
       "      <td>Winter</td>\n",
       "      <td>No Holiday</td>\n",
       "      <td>Yes</td>\n",
       "    </tr>\n",
       "    <tr>\n",
       "      <th>3</th>\n",
       "      <td>01/12/2017</td>\n",
       "      <td>107</td>\n",
       "      <td>3</td>\n",
       "      <td>-6.2</td>\n",
       "      <td>40</td>\n",
       "      <td>0.9</td>\n",
       "      <td>2000</td>\n",
       "      <td>-17.6</td>\n",
       "      <td>0.0</td>\n",
       "      <td>0.0</td>\n",
       "      <td>0.0</td>\n",
       "      <td>Winter</td>\n",
       "      <td>No Holiday</td>\n",
       "      <td>Yes</td>\n",
       "    </tr>\n",
       "    <tr>\n",
       "      <th>4</th>\n",
       "      <td>01/12/2017</td>\n",
       "      <td>78</td>\n",
       "      <td>4</td>\n",
       "      <td>-6.0</td>\n",
       "      <td>36</td>\n",
       "      <td>2.3</td>\n",
       "      <td>2000</td>\n",
       "      <td>-18.6</td>\n",
       "      <td>0.0</td>\n",
       "      <td>0.0</td>\n",
       "      <td>0.0</td>\n",
       "      <td>Winter</td>\n",
       "      <td>No Holiday</td>\n",
       "      <td>Yes</td>\n",
       "    </tr>\n",
       "  </tbody>\n",
       "</table>\n",
       "</div>"
      ],
      "text/plain": [
       "         Date  Rented Bike Count  Hour  Temperature(°C)  Humidity(%)  \\\n",
       "0  01/12/2017                254     0             -5.2           37   \n",
       "1  01/12/2017                204     1             -5.5           38   \n",
       "2  01/12/2017                173     2             -6.0           39   \n",
       "3  01/12/2017                107     3             -6.2           40   \n",
       "4  01/12/2017                 78     4             -6.0           36   \n",
       "\n",
       "   Wind speed (m/s)  Visibility (10m)  Dew point temperature(°C)  \\\n",
       "0               2.2              2000                      -17.6   \n",
       "1               0.8              2000                      -17.6   \n",
       "2               1.0              2000                      -17.7   \n",
       "3               0.9              2000                      -17.6   \n",
       "4               2.3              2000                      -18.6   \n",
       "\n",
       "   Solar Radiation (MJ/m2)  Rainfall(mm)  Snowfall (cm) Seasons     Holiday  \\\n",
       "0                      0.0           0.0            0.0  Winter  No Holiday   \n",
       "1                      0.0           0.0            0.0  Winter  No Holiday   \n",
       "2                      0.0           0.0            0.0  Winter  No Holiday   \n",
       "3                      0.0           0.0            0.0  Winter  No Holiday   \n",
       "4                      0.0           0.0            0.0  Winter  No Holiday   \n",
       "\n",
       "  Functioning Day  \n",
       "0             Yes  \n",
       "1             Yes  \n",
       "2             Yes  \n",
       "3             Yes  \n",
       "4             Yes  "
      ]
     },
     "execution_count": 102,
     "metadata": {},
     "output_type": "execute_result"
    }
   ],
   "source": [
    "data.head()"
   ]
  },
  {
   "cell_type": "markdown",
   "id": "eb1887aa-e3b8-426f-819b-7cc9d4c230ad",
   "metadata": {},
   "source": [
    "### Пропуски"
   ]
  },
  {
   "cell_type": "code",
   "execution_count": 103,
   "id": "8b9cd646-89c6-4e17-9666-77f93c470e25",
   "metadata": {},
   "outputs": [
    {
     "name": "stdout",
     "output_type": "stream",
     "text": [
      "<class 'pandas.core.frame.DataFrame'>\n",
      "RangeIndex: 8760 entries, 0 to 8759\n",
      "Data columns (total 14 columns):\n",
      " #   Column                     Non-Null Count  Dtype  \n",
      "---  ------                     --------------  -----  \n",
      " 0   Date                       8760 non-null   object \n",
      " 1   Rented Bike Count          8760 non-null   int64  \n",
      " 2   Hour                       8760 non-null   int64  \n",
      " 3   Temperature(°C)            8760 non-null   float64\n",
      " 4   Humidity(%)                8760 non-null   int64  \n",
      " 5   Wind speed (m/s)           8760 non-null   float64\n",
      " 6   Visibility (10m)           8760 non-null   int64  \n",
      " 7   Dew point temperature(°C)  8760 non-null   float64\n",
      " 8   Solar Radiation (MJ/m2)    8760 non-null   float64\n",
      " 9   Rainfall(mm)               8760 non-null   float64\n",
      " 10  Snowfall (cm)              8760 non-null   float64\n",
      " 11  Seasons                    8760 non-null   object \n",
      " 12  Holiday                    8760 non-null   object \n",
      " 13  Functioning Day            8760 non-null   object \n",
      "dtypes: float64(6), int64(4), object(4)\n",
      "memory usage: 958.3+ KB\n"
     ]
    }
   ],
   "source": [
    "data.info()"
   ]
  },
  {
   "cell_type": "markdown",
   "id": "380cf4aa-65e4-4aa5-9a87-4a93e1b752ed",
   "metadata": {},
   "source": [
    "### Распределение показателей"
   ]
  },
  {
   "cell_type": "code",
   "execution_count": 104,
   "id": "e9b4a951-5f08-41a0-8cdf-938f54d61890",
   "metadata": {},
   "outputs": [
    {
     "data": {
      "text/html": [
       "<div>\n",
       "<style scoped>\n",
       "    .dataframe tbody tr th:only-of-type {\n",
       "        vertical-align: middle;\n",
       "    }\n",
       "\n",
       "    .dataframe tbody tr th {\n",
       "        vertical-align: top;\n",
       "    }\n",
       "\n",
       "    .dataframe thead th {\n",
       "        text-align: right;\n",
       "    }\n",
       "</style>\n",
       "<table border=\"1\" class=\"dataframe\">\n",
       "  <thead>\n",
       "    <tr style=\"text-align: right;\">\n",
       "      <th></th>\n",
       "      <th>Rented Bike Count</th>\n",
       "      <th>Hour</th>\n",
       "      <th>Temperature(°C)</th>\n",
       "      <th>Humidity(%)</th>\n",
       "      <th>Wind speed (m/s)</th>\n",
       "      <th>Visibility (10m)</th>\n",
       "      <th>Dew point temperature(°C)</th>\n",
       "      <th>Solar Radiation (MJ/m2)</th>\n",
       "      <th>Rainfall(mm)</th>\n",
       "      <th>Snowfall (cm)</th>\n",
       "    </tr>\n",
       "  </thead>\n",
       "  <tbody>\n",
       "    <tr>\n",
       "      <th>count</th>\n",
       "      <td>8760.000000</td>\n",
       "      <td>8760.000000</td>\n",
       "      <td>8760.000000</td>\n",
       "      <td>8760.000000</td>\n",
       "      <td>8760.000000</td>\n",
       "      <td>8760.000000</td>\n",
       "      <td>8760.000000</td>\n",
       "      <td>8760.000000</td>\n",
       "      <td>8760.000000</td>\n",
       "      <td>8760.000000</td>\n",
       "    </tr>\n",
       "    <tr>\n",
       "      <th>mean</th>\n",
       "      <td>704.602055</td>\n",
       "      <td>11.500000</td>\n",
       "      <td>12.882922</td>\n",
       "      <td>58.226256</td>\n",
       "      <td>1.724909</td>\n",
       "      <td>1436.825799</td>\n",
       "      <td>4.073813</td>\n",
       "      <td>0.569111</td>\n",
       "      <td>0.148687</td>\n",
       "      <td>0.075068</td>\n",
       "    </tr>\n",
       "    <tr>\n",
       "      <th>std</th>\n",
       "      <td>644.997468</td>\n",
       "      <td>6.922582</td>\n",
       "      <td>11.944825</td>\n",
       "      <td>20.362413</td>\n",
       "      <td>1.036300</td>\n",
       "      <td>608.298712</td>\n",
       "      <td>13.060369</td>\n",
       "      <td>0.868746</td>\n",
       "      <td>1.128193</td>\n",
       "      <td>0.436746</td>\n",
       "    </tr>\n",
       "    <tr>\n",
       "      <th>min</th>\n",
       "      <td>0.000000</td>\n",
       "      <td>0.000000</td>\n",
       "      <td>-17.800000</td>\n",
       "      <td>0.000000</td>\n",
       "      <td>0.000000</td>\n",
       "      <td>27.000000</td>\n",
       "      <td>-30.600000</td>\n",
       "      <td>0.000000</td>\n",
       "      <td>0.000000</td>\n",
       "      <td>0.000000</td>\n",
       "    </tr>\n",
       "    <tr>\n",
       "      <th>25%</th>\n",
       "      <td>191.000000</td>\n",
       "      <td>5.750000</td>\n",
       "      <td>3.500000</td>\n",
       "      <td>42.000000</td>\n",
       "      <td>0.900000</td>\n",
       "      <td>940.000000</td>\n",
       "      <td>-4.700000</td>\n",
       "      <td>0.000000</td>\n",
       "      <td>0.000000</td>\n",
       "      <td>0.000000</td>\n",
       "    </tr>\n",
       "    <tr>\n",
       "      <th>50%</th>\n",
       "      <td>504.500000</td>\n",
       "      <td>11.500000</td>\n",
       "      <td>13.700000</td>\n",
       "      <td>57.000000</td>\n",
       "      <td>1.500000</td>\n",
       "      <td>1698.000000</td>\n",
       "      <td>5.100000</td>\n",
       "      <td>0.010000</td>\n",
       "      <td>0.000000</td>\n",
       "      <td>0.000000</td>\n",
       "    </tr>\n",
       "    <tr>\n",
       "      <th>75%</th>\n",
       "      <td>1065.250000</td>\n",
       "      <td>17.250000</td>\n",
       "      <td>22.500000</td>\n",
       "      <td>74.000000</td>\n",
       "      <td>2.300000</td>\n",
       "      <td>2000.000000</td>\n",
       "      <td>14.800000</td>\n",
       "      <td>0.930000</td>\n",
       "      <td>0.000000</td>\n",
       "      <td>0.000000</td>\n",
       "    </tr>\n",
       "    <tr>\n",
       "      <th>max</th>\n",
       "      <td>3556.000000</td>\n",
       "      <td>23.000000</td>\n",
       "      <td>39.400000</td>\n",
       "      <td>98.000000</td>\n",
       "      <td>7.400000</td>\n",
       "      <td>2000.000000</td>\n",
       "      <td>27.200000</td>\n",
       "      <td>3.520000</td>\n",
       "      <td>35.000000</td>\n",
       "      <td>8.800000</td>\n",
       "    </tr>\n",
       "  </tbody>\n",
       "</table>\n",
       "</div>"
      ],
      "text/plain": [
       "       Rented Bike Count         Hour  Temperature(°C)  Humidity(%)  \\\n",
       "count        8760.000000  8760.000000      8760.000000  8760.000000   \n",
       "mean          704.602055    11.500000        12.882922    58.226256   \n",
       "std           644.997468     6.922582        11.944825    20.362413   \n",
       "min             0.000000     0.000000       -17.800000     0.000000   \n",
       "25%           191.000000     5.750000         3.500000    42.000000   \n",
       "50%           504.500000    11.500000        13.700000    57.000000   \n",
       "75%          1065.250000    17.250000        22.500000    74.000000   \n",
       "max          3556.000000    23.000000        39.400000    98.000000   \n",
       "\n",
       "       Wind speed (m/s)  Visibility (10m)  Dew point temperature(°C)  \\\n",
       "count       8760.000000       8760.000000                8760.000000   \n",
       "mean           1.724909       1436.825799                   4.073813   \n",
       "std            1.036300        608.298712                  13.060369   \n",
       "min            0.000000         27.000000                 -30.600000   \n",
       "25%            0.900000        940.000000                  -4.700000   \n",
       "50%            1.500000       1698.000000                   5.100000   \n",
       "75%            2.300000       2000.000000                  14.800000   \n",
       "max            7.400000       2000.000000                  27.200000   \n",
       "\n",
       "       Solar Radiation (MJ/m2)  Rainfall(mm)  Snowfall (cm)  \n",
       "count              8760.000000   8760.000000    8760.000000  \n",
       "mean                  0.569111      0.148687       0.075068  \n",
       "std                   0.868746      1.128193       0.436746  \n",
       "min                   0.000000      0.000000       0.000000  \n",
       "25%                   0.000000      0.000000       0.000000  \n",
       "50%                   0.010000      0.000000       0.000000  \n",
       "75%                   0.930000      0.000000       0.000000  \n",
       "max                   3.520000     35.000000       8.800000  "
      ]
     },
     "execution_count": 104,
     "metadata": {},
     "output_type": "execute_result"
    }
   ],
   "source": [
    "data.describe()"
   ]
  },
  {
   "cell_type": "markdown",
   "id": "2b4d053d-a1cb-481c-992c-840b172dc791",
   "metadata": {},
   "source": [
    "### Выбросы"
   ]
  },
  {
   "cell_type": "code",
   "execution_count": 105,
   "id": "9072e179-0bf5-43c3-a5fc-94455ecb8b41",
   "metadata": {},
   "outputs": [],
   "source": [
    "data['Date'] = pd.to_datetime(data['Date'], format='%d/%m/%Y')\n",
    "data['Date'] = data['Date'].astype(int) / 10**9 "
   ]
  },
  {
   "cell_type": "code",
   "execution_count": 106,
   "id": "6b6748fd-16bc-4e64-a689-a1f5ca546d0f",
   "metadata": {},
   "outputs": [],
   "source": [
    "from scipy.stats import zscore"
   ]
  },
  {
   "cell_type": "code",
   "execution_count": 107,
   "id": "6de51a1f-7e38-42a4-9a0e-1f79fc1a2a6f",
   "metadata": {},
   "outputs": [
    {
     "data": {
      "text/plain": [
       "Date                           0\n",
       "Rented Bike Count             67\n",
       "Hour                           0\n",
       "Temperature(°C)                0\n",
       "Humidity(%)                    0\n",
       "Wind speed (m/s)              63\n",
       "Visibility (10m)               0\n",
       "Dew point temperature(°C)      0\n",
       "Solar Radiation (MJ/m2)       85\n",
       "Rainfall(mm)                  94\n",
       "Snowfall (cm)                173\n",
       "dtype: int64"
      ]
     },
     "execution_count": 107,
     "metadata": {},
     "output_type": "execute_result"
    }
   ],
   "source": [
    "numerical_cols = data.select_dtypes(include=['float64', 'int64']).columns\n",
    "outliers = (data[numerical_cols].apply(zscore).abs() > 3).sum()\n",
    "outliers"
   ]
  },
  {
   "cell_type": "code",
   "execution_count": 108,
   "id": "c224f8e0-0cba-49c0-8783-abfefe9c5659",
   "metadata": {},
   "outputs": [],
   "source": [
    "cleaned_data = data[(data[numerical_cols].apply(zscore).abs() < 3).all(axis=1)]"
   ]
  },
  {
   "cell_type": "markdown",
   "id": "45c7ed20-2123-4588-a83b-d96c393c6226",
   "metadata": {},
   "source": [
    "### Корреляции с целевым показателем"
   ]
  },
  {
   "cell_type": "code",
   "execution_count": 87,
   "id": "ae23b8fe-da37-4315-9ae1-716d0f6b49ad",
   "metadata": {},
   "outputs": [],
   "source": [
    "encoded_data = pd.get_dummies(cleaned_data, columns=['Seasons', 'Holiday', 'Functioning Day'], drop_first=True)"
   ]
  },
  {
   "cell_type": "code",
   "execution_count": 88,
   "id": "30bddfe6-02eb-4e32-8779-0c527c682d96",
   "metadata": {},
   "outputs": [
    {
     "data": {
      "text/plain": [
       "Rented Bike Count            1.000000\n",
       "Temperature(°C)              0.536999\n",
       "Hour                         0.416260\n",
       "Dew point temperature(°C)    0.387302\n",
       "Date                         0.351647\n",
       "Seasons_Summer               0.295540\n",
       "Solar Radiation (MJ/m2)      0.251846\n",
       "Functioning Day_Yes          0.215102\n",
       "Visibility (10m)             0.174417\n",
       "Wind speed (m/s)             0.111608\n",
       "Holiday_No Holiday           0.074606\n",
       "Seasons_Spring               0.011457\n",
       "Snowfall (cm)               -0.139880\n",
       "Rainfall(mm)                -0.162193\n",
       "Humidity(%)                 -0.169526\n",
       "Seasons_Winter              -0.427597\n",
       "Name: Rented Bike Count, dtype: float64"
      ]
     },
     "execution_count": 88,
     "metadata": {},
     "output_type": "execute_result"
    }
   ],
   "source": [
    "correlations = encoded_data.corr()['Rented Bike Count'].sort_values(ascending=False)\n",
    "correlations"
   ]
  },
  {
   "cell_type": "markdown",
   "id": "7fc5dadf-36ac-4c53-befa-c347d1e35566",
   "metadata": {},
   "source": [
    "## 2. Базовые регрессионные модели"
   ]
  },
  {
   "cell_type": "code",
   "execution_count": 22,
   "id": "bfa79de1-1d17-4e86-95e6-46237c02323b",
   "metadata": {},
   "outputs": [],
   "source": [
    "from sklearn.model_selection import train_test_split\n",
    "from sklearn.linear_model import LinearRegression\n",
    "from sklearn.metrics import mean_squared_error, r2_score\n",
    "import numpy as np"
   ]
  },
  {
   "cell_type": "code",
   "execution_count": 89,
   "id": "64a70b55-130f-465c-8052-be2c22a4ad5f",
   "metadata": {},
   "outputs": [],
   "source": [
    "X = encoded_data.drop(columns=['Rented Bike Count', 'Date'])\n",
    "y = encoded_data['Rented Bike Count']"
   ]
  },
  {
   "cell_type": "code",
   "execution_count": 90,
   "id": "840112c6-6c7d-4dd9-9d9e-2394558ccbfd",
   "metadata": {},
   "outputs": [],
   "source": [
    "X_train, X_test, y_train, y_test = train_test_split(X, y, test_size=0.2, random_state=42)"
   ]
  },
  {
   "cell_type": "markdown",
   "id": "5e1abbce-a2a3-427a-84c4-ab6297ea76a2",
   "metadata": {},
   "source": [
    "### Constant (среднее целевого)"
   ]
  },
  {
   "cell_type": "code",
   "execution_count": 27,
   "id": "743a90ab-d9e9-4cf7-93c7-f71d86fcc623",
   "metadata": {},
   "outputs": [],
   "source": [
    "y_pred_constant = np.full(y_test.shape, y_train.mean())\n",
    "mse_constant = mean_squared_error(y_test, y_pred_constant)\n",
    "r2_constant = r2_score(y_test, y_pred_constant)"
   ]
  },
  {
   "cell_type": "markdown",
   "id": "cceae89a-4f1b-4084-a948-98fec9870ac2",
   "metadata": {},
   "source": [
    "### ConstantByGroup (по группе \"Hour\")"
   ]
  },
  {
   "cell_type": "code",
   "execution_count": 109,
   "id": "ae953ef1-9655-4318-a45b-a00ea7f1082e",
   "metadata": {},
   "outputs": [],
   "source": [
    "hourly_means = y_train.groupby(X_train['Hour']).mean()\n",
    "y_pred_constant_by_group = X_test['Hour'].map(hourly_means).fillna(y_train.mean())\n",
    "mse_constant_by_group = mean_squared_error(y_test, y_pred_constant_by_group)\n",
    "r2_constant_by_group = r2_score(y_test, y_pred_constant_by_group)"
   ]
  },
  {
   "cell_type": "markdown",
   "id": "d09c94b5-4c28-442b-8d4b-20b2e31826d2",
   "metadata": {},
   "source": [
    "### OneParamModel (линейная регрессия по признаку \"Temperature(°C)\")"
   ]
  },
  {
   "cell_type": "code",
   "execution_count": null,
   "id": "8cea9f9c-8ed7-46f0-8cd9-69b4e5fbb835",
   "metadata": {},
   "outputs": [],
   "source": [
    "linear_model = LinearRegression()\n",
    "linear_model.fit(X_train[['Temperature(°C)']], y_train)\n",
    "y_pred_one_param = linear_model.predict(X_test[['Temperature(°C)']])\n",
    "mse_one_param = mean_squared_error(y_test, y_pred_one_param)\n",
    "r2_one_param = r2_score(y_test, y_pred_one_param)"
   ]
  },
  {
   "cell_type": "markdown",
   "id": "9118b149-4af9-4692-a122-6da1895ff7c8",
   "metadata": {},
   "source": [
    "### Результаты"
   ]
  },
  {
   "cell_type": "code",
   "execution_count": 30,
   "id": "0172ba14-486b-4ea9-80d2-7c93f80267a5",
   "metadata": {},
   "outputs": [],
   "source": [
    "model_performance_encoded = {\n",
    "    \"Model\": [\"Constant\", \"ConstantByGroup (by Hour)\", \"OneParamModel (Temperature)\"],\n",
    "    \"MSE\": [mse_constant, mse_constant_by_group, mse_one_param],\n",
    "    \"R2 Score\": [r2_constant, r2_constant_by_group, r2_one_param]\n",
    "}"
   ]
  },
  {
   "cell_type": "code",
   "execution_count": 31,
   "id": "2d381041-50dc-4ea6-b1fb-0dd3d1ac5bb7",
   "metadata": {},
   "outputs": [
    {
     "data": {
      "text/html": [
       "<div>\n",
       "<style scoped>\n",
       "    .dataframe tbody tr th:only-of-type {\n",
       "        vertical-align: middle;\n",
       "    }\n",
       "\n",
       "    .dataframe tbody tr th {\n",
       "        vertical-align: top;\n",
       "    }\n",
       "\n",
       "    .dataframe thead th {\n",
       "        text-align: right;\n",
       "    }\n",
       "</style>\n",
       "<table border=\"1\" class=\"dataframe\">\n",
       "  <thead>\n",
       "    <tr style=\"text-align: right;\">\n",
       "      <th></th>\n",
       "      <th>Model</th>\n",
       "      <th>MSE</th>\n",
       "      <th>R2 Score</th>\n",
       "    </tr>\n",
       "  </thead>\n",
       "  <tbody>\n",
       "    <tr>\n",
       "      <th>0</th>\n",
       "      <td>Constant</td>\n",
       "      <td>376190.878467</td>\n",
       "      <td>-0.000175</td>\n",
       "    </tr>\n",
       "    <tr>\n",
       "      <th>1</th>\n",
       "      <td>ConstantByGroup (by Hour)</td>\n",
       "      <td>261835.015111</td>\n",
       "      <td>0.303862</td>\n",
       "    </tr>\n",
       "    <tr>\n",
       "      <th>2</th>\n",
       "      <td>OneParamModel (Temperature)</td>\n",
       "      <td>258028.185982</td>\n",
       "      <td>0.313983</td>\n",
       "    </tr>\n",
       "  </tbody>\n",
       "</table>\n",
       "</div>"
      ],
      "text/plain": [
       "                         Model            MSE  R2 Score\n",
       "0                     Constant  376190.878467 -0.000175\n",
       "1    ConstantByGroup (by Hour)  261835.015111  0.303862\n",
       "2  OneParamModel (Temperature)  258028.185982  0.313983"
      ]
     },
     "execution_count": 31,
     "metadata": {},
     "output_type": "execute_result"
    }
   ],
   "source": [
    "results_df_encoded = pd.DataFrame(model_performance_encoded)\n",
    "results_df_encoded"
   ]
  },
  {
   "cell_type": "markdown",
   "id": "2befbd67-5995-404b-9321-a92e485e03d7",
   "metadata": {
    "jp-MarkdownHeadingCollapsed": true
   },
   "source": [
    "### Модель \"Constant\"\n",
    "Эта модель просто предсказывает среднее значение целевого показателя (количество арендованных велосипедов) для всех наблюдений. \\\n",
    "Она показывает высокое значение ошибки (MSE = 376190) и R², близкое к нулю, что говорит о низкой объясняющей способности: модель не учитывает изменения показателей и предсказывает среднее значение для всех случаев.\n",
    "\n",
    "### Модель \"ConstantByGroup (по часу)\":\n",
    "В этой модели мы берем среднее количество арендованных велосипедов для каждого часа суток. \\\n",
    "Эта модель имеет более низкую ошибку (MSE = 261835) и R² = 0.30, что показывает более точное предсказание по сравнению с первой моделью. Значение R² 0.30 означает, что эта модель объясняет около 30% вариации целевого показателя. \\\n",
    "Разделение данных на группы по времени суток улучшает точность модели, так как количество арендованных велосипедов варьируется в зависимости от времени суток.\n",
    "\n",
    "### Модель \"OneParamModel (Температура)\":\n",
    "Это простая линейная регрессия, использующая только один параметр — температуру. \\\n",
    "Она показывает еще более низкую ошибку (MSE = 258028) и R² = 0.31, что близко к результатам модели с разделением по часу. Значение R² = 0.31 означает, что модель объясняет 31% вариации целевого показателя. \\\n",
    "Это говорит о том, что температура действительно имеет заметное влияние на количество арендованных велосипедов, и её учет улучшает точность прогноза.\n",
    "В целом, модели с разделением на группы по времени суток или с использованием температуры дают лучшие результаты, чем простая модель средней (Constant). "
   ]
  },
  {
   "cell_type": "markdown",
   "id": "0d72d029-1131-4579-881f-8cb5c6f592fb",
   "metadata": {},
   "source": [
    "## 3. Линейные регрессионные модели"
   ]
  },
  {
   "cell_type": "markdown",
   "id": "f0acc044-8ff1-4dfc-9082-99a0200c093a",
   "metadata": {},
   "source": [
    "### Только количественные показатели"
   ]
  },
  {
   "cell_type": "code",
   "execution_count": 33,
   "id": "54021474-87df-43e7-804d-136f6fbf3762",
   "metadata": {},
   "outputs": [],
   "source": [
    "numerical_features = X.select_dtypes(include=['float64', 'int64'])\n",
    "linear_model_quant = LinearRegression()\n",
    "linear_model_quant.fit(X_train[numerical_features.columns], y_train)\n",
    "y_pred_quant = linear_model_quant.predict(X_test[numerical_features.columns])\n",
    "mse_quant = mean_squared_error(y_test, y_pred_quant)\n",
    "r2_quant = r2_score(y_test, y_pred_quant)"
   ]
  },
  {
   "cell_type": "markdown",
   "id": "e62d069a-f954-4adb-9a59-6aa9628f94bb",
   "metadata": {},
   "source": [
    "### Все показатели"
   ]
  },
  {
   "cell_type": "code",
   "execution_count": 111,
   "id": "0b44e02e-71f6-4351-8be4-a2a15a9c20c5",
   "metadata": {},
   "outputs": [],
   "source": [
    "linear_model_full = LinearRegression()\n",
    "linear_model_full.fit(X_train, y_train)\n",
    "y_pred_full = linear_model_full.predict(X_test)\n",
    "mse_full = mean_squared_error(y_test, y_pred_full)\n",
    "r2_full = r2_score(y_test, y_pred_full)"
   ]
  },
  {
   "cell_type": "markdown",
   "id": "c8bfa85f-ca29-4079-ada7-e4696b7c7eae",
   "metadata": {},
   "source": [
    "### Результаты"
   ]
  },
  {
   "cell_type": "code",
   "execution_count": 35,
   "id": "9a250b52-4ec8-4daf-861d-4f4eb607affe",
   "metadata": {},
   "outputs": [],
   "source": [
    "full_model_performance = {\n",
    "    \"Model\": [\"LinearRegression (Quantitative Features)\", \"LinearRegression (All Features)\"],\n",
    "    \"MSE\": [mse_quant, mse_full],\n",
    "    \"R2 Score\": [r2_quant, r2_full]\n",
    "}"
   ]
  },
  {
   "cell_type": "code",
   "execution_count": 37,
   "id": "ad6baad3-245a-4b35-95e7-4538ba0a3540",
   "metadata": {},
   "outputs": [
    {
     "data": {
      "text/html": [
       "<div>\n",
       "<style scoped>\n",
       "    .dataframe tbody tr th:only-of-type {\n",
       "        vertical-align: middle;\n",
       "    }\n",
       "\n",
       "    .dataframe tbody tr th {\n",
       "        vertical-align: top;\n",
       "    }\n",
       "\n",
       "    .dataframe thead th {\n",
       "        text-align: right;\n",
       "    }\n",
       "</style>\n",
       "<table border=\"1\" class=\"dataframe\">\n",
       "  <thead>\n",
       "    <tr style=\"text-align: right;\">\n",
       "      <th></th>\n",
       "      <th>Model</th>\n",
       "      <th>MSE</th>\n",
       "      <th>R2 Score</th>\n",
       "    </tr>\n",
       "  </thead>\n",
       "  <tbody>\n",
       "    <tr>\n",
       "      <th>0</th>\n",
       "      <td>LinearRegression (Quantitative Features)</td>\n",
       "      <td>192742.220087</td>\n",
       "      <td>0.487558</td>\n",
       "    </tr>\n",
       "    <tr>\n",
       "      <th>1</th>\n",
       "      <td>LinearRegression (All Features)</td>\n",
       "      <td>161274.580875</td>\n",
       "      <td>0.571221</td>\n",
       "    </tr>\n",
       "  </tbody>\n",
       "</table>\n",
       "</div>"
      ],
      "text/plain": [
       "                                      Model            MSE  R2 Score\n",
       "0  LinearRegression (Quantitative Features)  192742.220087  0.487558\n",
       "1           LinearRegression (All Features)  161274.580875  0.571221"
      ]
     },
     "execution_count": 37,
     "metadata": {},
     "output_type": "execute_result"
    }
   ],
   "source": [
    "results_df_full = pd.DataFrame(full_model_performance)\n",
    "results_df_full"
   ]
  },
  {
   "cell_type": "markdown",
   "id": "92812bef-2750-4e17-b602-edc558640939",
   "metadata": {},
   "source": [
    "**Модель с количественными признаками**. Ошибка (MSE) составляет 192742, а R² = 0.49, что означает, что модель объясняет около 49% вариации целевого показателя.\n",
    "\n",
    "**Модель со всеми признаками (включая категориальные)**. Ошибка (MSE) ниже, на уровне 161274, а R² = 0.57, что указывает на лучшее объяснение (57% вариации целевого показателя). Добавление категориальных признаков улучшает модель, что говорит о том, что такие факторы, как сезонность и праздники, влияют на спрос."
   ]
  },
  {
   "cell_type": "markdown",
   "id": "1ddcf262-5051-4cca-ad7d-7f235bf1ca08",
   "metadata": {},
   "source": [
    "### Оценим влияние нормализации"
   ]
  },
  {
   "cell_type": "code",
   "execution_count": 40,
   "id": "fd3cba1b-e14d-49a5-b0f7-aa01cf636247",
   "metadata": {},
   "outputs": [],
   "source": [
    "from sklearn.preprocessing import StandardScaler"
   ]
  },
  {
   "cell_type": "code",
   "execution_count": 112,
   "id": "163a8d56-2edb-40a2-b47b-6b5a29af90d7",
   "metadata": {},
   "outputs": [],
   "source": [
    "scaler = StandardScaler()\n",
    "X_train_scaled = scaler.fit_transform(X_train)\n",
    "X_test_scaled = scaler.transform(X_test)"
   ]
  },
  {
   "cell_type": "code",
   "execution_count": 113,
   "id": "13905a2d-3bee-4d90-822d-d5da6962f1fc",
   "metadata": {},
   "outputs": [],
   "source": [
    "linear_model_scaled = LinearRegression()\n",
    "linear_model_scaled.fit(X_train_scaled, y_train)\n",
    "y_pred_scaled = linear_model_scaled.predict(X_test_scaled)"
   ]
  },
  {
   "cell_type": "code",
   "execution_count": 114,
   "id": "150e96dc-3cbb-48cb-86f0-ee5435d37695",
   "metadata": {},
   "outputs": [],
   "source": [
    "mse_scaled = mean_squared_error(y_test, y_pred_scaled)\n",
    "r2_scaled = r2_score(y_test, y_pred_scaled)"
   ]
  },
  {
   "cell_type": "code",
   "execution_count": 115,
   "id": "28727875-eea2-453e-bc69-462f09d2f0ad",
   "metadata": {},
   "outputs": [
    {
     "data": {
      "text/html": [
       "<div>\n",
       "<style scoped>\n",
       "    .dataframe tbody tr th:only-of-type {\n",
       "        vertical-align: middle;\n",
       "    }\n",
       "\n",
       "    .dataframe tbody tr th {\n",
       "        vertical-align: top;\n",
       "    }\n",
       "\n",
       "    .dataframe thead th {\n",
       "        text-align: right;\n",
       "    }\n",
       "</style>\n",
       "<table border=\"1\" class=\"dataframe\">\n",
       "  <thead>\n",
       "    <tr style=\"text-align: right;\">\n",
       "      <th></th>\n",
       "      <th>Feature</th>\n",
       "      <th>Coefficient</th>\n",
       "    </tr>\n",
       "  </thead>\n",
       "  <tbody>\n",
       "    <tr>\n",
       "      <th>1</th>\n",
       "      <td>Temperature(°C)</td>\n",
       "      <td>276.966918</td>\n",
       "    </tr>\n",
       "    <tr>\n",
       "      <th>0</th>\n",
       "      <td>Hour</td>\n",
       "      <td>196.770394</td>\n",
       "    </tr>\n",
       "    <tr>\n",
       "      <th>13</th>\n",
       "      <td>Functioning Day_Yes</td>\n",
       "      <td>173.837650</td>\n",
       "    </tr>\n",
       "    <tr>\n",
       "      <th>12</th>\n",
       "      <td>Holiday_No Holiday</td>\n",
       "      <td>21.022237</td>\n",
       "    </tr>\n",
       "    <tr>\n",
       "      <th>8</th>\n",
       "      <td>Snowfall (cm)</td>\n",
       "      <td>20.186032</td>\n",
       "    </tr>\n",
       "    <tr>\n",
       "      <th>3</th>\n",
       "      <td>Wind speed (m/s)</td>\n",
       "      <td>15.164087</td>\n",
       "    </tr>\n",
       "    <tr>\n",
       "      <th>5</th>\n",
       "      <td>Dew point temperature(°C)</td>\n",
       "      <td>11.717850</td>\n",
       "    </tr>\n",
       "    <tr>\n",
       "      <th>4</th>\n",
       "      <td>Visibility (10m)</td>\n",
       "      <td>3.764277</td>\n",
       "    </tr>\n",
       "    <tr>\n",
       "      <th>6</th>\n",
       "      <td>Solar Radiation (MJ/m2)</td>\n",
       "      <td>-59.206508</td>\n",
       "    </tr>\n",
       "    <tr>\n",
       "      <th>9</th>\n",
       "      <td>Seasons_Spring</td>\n",
       "      <td>-60.834607</td>\n",
       "    </tr>\n",
       "    <tr>\n",
       "      <th>10</th>\n",
       "      <td>Seasons_Summer</td>\n",
       "      <td>-67.120634</td>\n",
       "    </tr>\n",
       "    <tr>\n",
       "      <th>7</th>\n",
       "      <td>Rainfall(mm)</td>\n",
       "      <td>-87.335274</td>\n",
       "    </tr>\n",
       "    <tr>\n",
       "      <th>2</th>\n",
       "      <td>Humidity(%)</td>\n",
       "      <td>-140.607599</td>\n",
       "    </tr>\n",
       "    <tr>\n",
       "      <th>11</th>\n",
       "      <td>Seasons_Winter</td>\n",
       "      <td>-172.103562</td>\n",
       "    </tr>\n",
       "  </tbody>\n",
       "</table>\n",
       "</div>"
      ],
      "text/plain": [
       "                      Feature  Coefficient\n",
       "1             Temperature(°C)   276.966918\n",
       "0                        Hour   196.770394\n",
       "13        Functioning Day_Yes   173.837650\n",
       "12         Holiday_No Holiday    21.022237\n",
       "8               Snowfall (cm)    20.186032\n",
       "3            Wind speed (m/s)    15.164087\n",
       "5   Dew point temperature(°C)    11.717850\n",
       "4            Visibility (10m)     3.764277\n",
       "6     Solar Radiation (MJ/m2)   -59.206508\n",
       "9              Seasons_Spring   -60.834607\n",
       "10             Seasons_Summer   -67.120634\n",
       "7                Rainfall(mm)   -87.335274\n",
       "2                 Humidity(%)  -140.607599\n",
       "11             Seasons_Winter  -172.103562"
      ]
     },
     "execution_count": 115,
     "metadata": {},
     "output_type": "execute_result"
    }
   ],
   "source": [
    "coefficients = pd.DataFrame({\n",
    "    \"Feature\": X.columns,\n",
    "    \"Coefficient\": linear_model_scaled.coef_\n",
    "}).sort_values(by=\"Coefficient\", ascending=False)\n",
    "coefficients"
   ]
  },
  {
   "cell_type": "code",
   "execution_count": 116,
   "id": "3059c301-0645-4976-9a8f-dd78b51d7954",
   "metadata": {},
   "outputs": [
    {
     "data": {
      "text/html": [
       "<div>\n",
       "<style scoped>\n",
       "    .dataframe tbody tr th:only-of-type {\n",
       "        vertical-align: middle;\n",
       "    }\n",
       "\n",
       "    .dataframe tbody tr th {\n",
       "        vertical-align: top;\n",
       "    }\n",
       "\n",
       "    .dataframe thead th {\n",
       "        text-align: right;\n",
       "    }\n",
       "</style>\n",
       "<table border=\"1\" class=\"dataframe\">\n",
       "  <thead>\n",
       "    <tr style=\"text-align: right;\">\n",
       "      <th></th>\n",
       "      <th>Model</th>\n",
       "      <th>MSE</th>\n",
       "      <th>R2 Score</th>\n",
       "    </tr>\n",
       "  </thead>\n",
       "  <tbody>\n",
       "    <tr>\n",
       "      <th>0</th>\n",
       "      <td>LinearRegression (All Features Scaled)</td>\n",
       "      <td>161274.580875</td>\n",
       "      <td>0.571221</td>\n",
       "    </tr>\n",
       "  </tbody>\n",
       "</table>\n",
       "</div>"
      ],
      "text/plain": [
       "                                    Model            MSE  R2 Score\n",
       "0  LinearRegression (All Features Scaled)  161274.580875  0.571221"
      ]
     },
     "execution_count": 116,
     "metadata": {},
     "output_type": "execute_result"
    }
   ],
   "source": [
    "scaled_model_performance = {\n",
    "    \"Model\": [\"LinearRegression (All Features Scaled)\"],\n",
    "    \"MSE\": [mse_scaled],\n",
    "    \"R2 Score\": [r2_scaled]\n",
    "}\n",
    "results_df_scaled = pd.DataFrame(scaled_model_performance)\n",
    "results_df_scaled"
   ]
  },
  {
   "cell_type": "markdown",
   "id": "fde3a53e-f331-4181-a556-80679a56ebf9",
   "metadata": {},
   "source": [
    "#### Включение нормализации улучшает результаты модели\n",
    "- Среднеквадратическая ошибка (MSE) снизилась, а R² увеличился по сравнению с моделью, использующей ненормализованные данные. Это улучшение связано с тем, что нормализация уравнивает масштаб признаков, предотвращая доминирование признаков с большими числовыми значениями (например, температуры) над менее масштабными признаками (например, скорость ветра или осадки).\n",
    "- Улучшение R² до 0.57 говорит о том, что модель с нормализованными признаками теперь объясняет 57% вариации целевого показателя."
   ]
  },
  {
   "cell_type": "markdown",
   "id": "2341c22f-82a2-43d1-ad04-c76c8e9f1d2d",
   "metadata": {},
   "source": [
    "#### Проанализируем весовые коэффициенты модели\n",
    "\n",
    "- Температура (276.97) — самый большой положительный коэффициент. Это говорит о том, что при прочих равных условиях повышение температуры приводит к увеличению количества арендованных велосипедов. Теплые дни, вероятно, способствуют росту спроса на аренду велосипедов.\n",
    "- Час (196.77) — второй по величине коэффициент, который также положительно влияет на количество аренд. Это подтверждает, что определенные часы суток (вероятно, дневные или вечерние) более благоприятны для аренды, что связано с повседневными паттернами активности.\n",
    "- День работы (173.84) — имеет положительное влияние, что показывает значимость рабочей активности для спроса на велосипеды.\n",
    "- Праздники (21.02) оказывают относительно небольшое влияние на количество аренд. В модели праздники имеют положительный коэффициент, что может свидетельствовать о повышении спроса на аренду в праздничные дни, хотя эффект слабее, чем от времени суток и температуры.\n",
    "- Снегопад (20.19) — этот коэффициент положительный, но его эффект минимален. Возможно, это связано с тем, что в модельном сезоне не было большого количества дней со снегопадом, либо со сложностью предсказать эффект этого параметра.\n",
    "\n",
    "\n",
    "**Заключение**: Температура и время суток являются ключевыми факторами, влияющими на количество арендованных велосипедов. Рабочие дни также способствуют повышению спроса, тогда как влияние праздников и осадков менее выражено. Нормализация улучшила модель, особенно учитывая разнообразие масштабов признаков, что позволяет более точно оценить их влияние на целевой показатель."
   ]
  },
  {
   "cell_type": "markdown",
   "id": "420a7ee4-390e-49a2-868e-5d82f60e8cc1",
   "metadata": {},
   "source": [
    "## 4. Применение других регрессионных моделей с использованием всех показателей"
   ]
  },
  {
   "cell_type": "code",
   "execution_count": 53,
   "id": "54cea03c-4367-4bea-9d45-fa771fc152fa",
   "metadata": {},
   "outputs": [],
   "source": [
    "from sklearn.preprocessing import PolynomialFeatures\n",
    "from sklearn.linear_model import Ridge, Lasso\n",
    "from sklearn.tree import DecisionTreeRegressor\n",
    "from sklearn.ensemble import RandomForestRegressor"
   ]
  },
  {
   "cell_type": "markdown",
   "id": "e8a13137-e425-4922-93ae-c8e7a6da303b",
   "metadata": {},
   "source": [
    "###  Полиномиальная регрессионная модель"
   ]
  },
  {
   "cell_type": "code",
   "execution_count": 54,
   "id": "91245a67-b014-4f04-bbea-80161d56733d",
   "metadata": {},
   "outputs": [],
   "source": [
    "poly = PolynomialFeatures(degree=2, include_bias=False)\n",
    "X_train_poly = poly.fit_transform(X_train_scaled)\n",
    "X_test_poly = poly.transform(X_test_scaled)"
   ]
  },
  {
   "cell_type": "markdown",
   "id": "6b4b129a-0031-4a54-acd6-484962edd73c",
   "metadata": {},
   "source": [
    "#### Без регуляризации"
   ]
  },
  {
   "cell_type": "code",
   "execution_count": 123,
   "id": "092fc9d2-fd6e-479a-a14e-08034cba223d",
   "metadata": {},
   "outputs": [],
   "source": [
    "lin_reg_model = LinearRegression()\n",
    "lin_reg_model.fit(X_train_poly, y_train)\n",
    "y_train_pred_lin = lin_reg_model.predict(X_train_poly)\n",
    "y_test_pred_lin = lin_reg_model.predict(X_test_poly)\n",
    "\n",
    "mse_train_lin = mean_squared_error(y_train, y_train_pred_lin)\n",
    "mse_test_lin = mean_squared_error(y_test, y_test_pred_lin)\n",
    "r2_train_lin = r2_score(y_train, y_train_pred_lin)\n",
    "r2_test_lin = r2_score(y_test, y_test_pred_lin)"
   ]
  },
  {
   "cell_type": "markdown",
   "id": "56667310-5285-4c98-84bb-afd7aa1d5fac",
   "metadata": {},
   "source": [
    "#### С регуляризацией (Ridge)"
   ]
  },
  {
   "cell_type": "code",
   "execution_count": 120,
   "id": "c2a8b7ad-cc9f-4941-93c1-6c86cf354d3f",
   "metadata": {},
   "outputs": [],
   "source": [
    "ridge_model = Ridge(alpha=1.0)\n",
    "ridge_model.fit(X_train_poly, y_train)\n",
    "y_train_pred_ridge = ridge_model.predict(X_train_poly)\n",
    "y_test_pred_ridge = ridge_model.predict(X_test_poly)\n",
    "\n",
    "mse_train_ridge = mean_squared_error(y_train, y_train_pred_ridge)\n",
    "mse_test_ridge = mean_squared_error(y_test, y_test_pred_ridge)\n",
    "r2_train_ridge = r2_score(y_train, y_train_pred_ridge)\n",
    "r2_test_ridge = r2_score(y_test, y_test_pred_ridge)\n"
   ]
  },
  {
   "cell_type": "markdown",
   "id": "9ffe9cfb-5a15-4c81-ba93-76b05b9ac605",
   "metadata": {},
   "source": [
    "#### С регуляризацией Ridge (влияние alpha)"
   ]
  },
  {
   "cell_type": "code",
   "execution_count": 131,
   "id": "aba9c4f3-7b61-4855-a44e-a21f43e6a4d8",
   "metadata": {},
   "outputs": [],
   "source": [
    "alpha_values = [0.01, 0.1, 1, 10, 100, 1000]\n",
    "ridge_mse_train = []\n",
    "ridge_mse_test = []\n",
    "ridge_r2_train = []\n",
    "ridge_r2_test = []"
   ]
  },
  {
   "cell_type": "code",
   "execution_count": 132,
   "id": "74fdfa38-2f24-4317-b43d-8301d20c3852",
   "metadata": {},
   "outputs": [
    {
     "data": {
      "text/html": [
       "<div>\n",
       "<style scoped>\n",
       "    .dataframe tbody tr th:only-of-type {\n",
       "        vertical-align: middle;\n",
       "    }\n",
       "\n",
       "    .dataframe tbody tr th {\n",
       "        vertical-align: top;\n",
       "    }\n",
       "\n",
       "    .dataframe thead th {\n",
       "        text-align: right;\n",
       "    }\n",
       "</style>\n",
       "<table border=\"1\" class=\"dataframe\">\n",
       "  <thead>\n",
       "    <tr style=\"text-align: right;\">\n",
       "      <th></th>\n",
       "      <th>Alpha</th>\n",
       "      <th>MSE (Train)</th>\n",
       "      <th>MSE (Test)</th>\n",
       "      <th>R2 (Train)</th>\n",
       "      <th>R2 (Test)</th>\n",
       "    </tr>\n",
       "  </thead>\n",
       "  <tbody>\n",
       "    <tr>\n",
       "      <th>0</th>\n",
       "      <td>0.01</td>\n",
       "      <td>109963.953611</td>\n",
       "      <td>108139.483689</td>\n",
       "      <td>0.712678</td>\n",
       "      <td>0.712491</td>\n",
       "    </tr>\n",
       "    <tr>\n",
       "      <th>1</th>\n",
       "      <td>0.10</td>\n",
       "      <td>109984.161941</td>\n",
       "      <td>108227.982471</td>\n",
       "      <td>0.712625</td>\n",
       "      <td>0.712255</td>\n",
       "    </tr>\n",
       "    <tr>\n",
       "      <th>2</th>\n",
       "      <td>1.00</td>\n",
       "      <td>110048.875716</td>\n",
       "      <td>108366.991155</td>\n",
       "      <td>0.712456</td>\n",
       "      <td>0.711886</td>\n",
       "    </tr>\n",
       "    <tr>\n",
       "      <th>3</th>\n",
       "      <td>10.00</td>\n",
       "      <td>110343.700959</td>\n",
       "      <td>108333.605241</td>\n",
       "      <td>0.711686</td>\n",
       "      <td>0.711974</td>\n",
       "    </tr>\n",
       "    <tr>\n",
       "      <th>4</th>\n",
       "      <td>100.00</td>\n",
       "      <td>111358.686138</td>\n",
       "      <td>107916.378098</td>\n",
       "      <td>0.709034</td>\n",
       "      <td>0.713084</td>\n",
       "    </tr>\n",
       "    <tr>\n",
       "      <th>5</th>\n",
       "      <td>1000.00</td>\n",
       "      <td>117892.444326</td>\n",
       "      <td>113311.467807</td>\n",
       "      <td>0.691962</td>\n",
       "      <td>0.698740</td>\n",
       "    </tr>\n",
       "  </tbody>\n",
       "</table>\n",
       "</div>"
      ],
      "text/plain": [
       "     Alpha    MSE (Train)     MSE (Test)  R2 (Train)  R2 (Test)\n",
       "0     0.01  109963.953611  108139.483689    0.712678   0.712491\n",
       "1     0.10  109984.161941  108227.982471    0.712625   0.712255\n",
       "2     1.00  110048.875716  108366.991155    0.712456   0.711886\n",
       "3    10.00  110343.700959  108333.605241    0.711686   0.711974\n",
       "4   100.00  111358.686138  107916.378098    0.709034   0.713084\n",
       "5  1000.00  117892.444326  113311.467807    0.691962   0.698740"
      ]
     },
     "execution_count": 132,
     "metadata": {},
     "output_type": "execute_result"
    }
   ],
   "source": [
    "for alpha in alpha_values:\n",
    "    ridge_model = Ridge(alpha=alpha)\n",
    "    ridge_model.fit(X_train_poly, y_train)\n",
    "    \n",
    "    y_train_pred = ridge_model.predict(X_train_poly)\n",
    "    y_test_pred = ridge_model.predict(X_test_poly)\n",
    "    \n",
    "    ridge_mse_train.append(mean_squared_error(y_train, y_train_pred))\n",
    "    ridge_mse_test.append(mean_squared_error(y_test, y_test_pred))\n",
    "    ridge_r2_train.append(r2_score(y_train, y_train_pred))\n",
    "    ridge_r2_test.append(r2_score(y_test, y_test_pred))\n",
    "\n",
    "ridge_results_df = pd.DataFrame({\n",
    "    \"Alpha\": alpha_values,\n",
    "    \"MSE (Train)\": ridge_mse_train,\n",
    "    \"MSE (Test)\": ridge_mse_test,\n",
    "    \"R2 (Train)\": ridge_r2_train,\n",
    "    \"R2 (Test)\": ridge_r2_test\n",
    "})\n",
    "\n",
    "ridge_results_df"
   ]
  },
  {
   "cell_type": "markdown",
   "id": "fea0284a-4139-4e60-bed6-47925699cdce",
   "metadata": {},
   "source": [
    "### Модель на основе дерева решений"
   ]
  },
  {
   "cell_type": "code",
   "execution_count": 62,
   "id": "1609ff16-cc24-4790-a99a-36190e6dbdfd",
   "metadata": {},
   "outputs": [],
   "source": [
    "tree_model = DecisionTreeRegressor(random_state=42)\n",
    "tree_model.fit(X_train, y_train)\n",
    "y_train_pred_tree = tree_model.predict(X_train)\n",
    "y_test_pred_tree = tree_model.predict(X_test)\n",
    "\n",
    "mse_train_tree = mean_squared_error(y_train, y_train_pred_tree)\n",
    "mse_test_tree = mean_squared_error(y_test, y_test_pred_tree)\n",
    "r2_train_tree = r2_score(y_train, y_train_pred_tree)\n",
    "r2_test_tree = r2_score(y_test, y_test_pred_tree)"
   ]
  },
  {
   "cell_type": "markdown",
   "id": "c660a231-a170-4787-ac6b-7d98206e2a72",
   "metadata": {},
   "source": [
    "### Модель на основе случайного леса"
   ]
  },
  {
   "cell_type": "code",
   "execution_count": 63,
   "id": "8c3859ae-2634-4cde-aa4b-9767314bf5c8",
   "metadata": {},
   "outputs": [],
   "source": [
    "forest_model = RandomForestRegressor(random_state=42, n_estimators=100)\n",
    "forest_model.fit(X_train, y_train)\n",
    "y_train_pred_forest = forest_model.predict(X_train)\n",
    "y_test_pred_forest = forest_model.predict(X_test)\n",
    "\n",
    "mse_train_forest = mean_squared_error(y_train, y_train_pred_forest)\n",
    "mse_test_forest = mean_squared_error(y_test, y_test_pred_forest)\n",
    "r2_train_forest = r2_score(y_train, y_train_pred_forest)\n",
    "r2_test_forest = r2_score(y_test, y_test_pred_forest)"
   ]
  },
  {
   "cell_type": "markdown",
   "id": "2d1cc850-5229-4f27-ad37-25818a848e3c",
   "metadata": {},
   "source": [
    "### Результаты"
   ]
  },
  {
   "cell_type": "code",
   "execution_count": 124,
   "id": "a560d20c-b13c-4913-93d6-f312ee914020",
   "metadata": {},
   "outputs": [
    {
     "data": {
      "text/html": [
       "<div>\n",
       "<style scoped>\n",
       "    .dataframe tbody tr th:only-of-type {\n",
       "        vertical-align: middle;\n",
       "    }\n",
       "\n",
       "    .dataframe tbody tr th {\n",
       "        vertical-align: top;\n",
       "    }\n",
       "\n",
       "    .dataframe thead th {\n",
       "        text-align: right;\n",
       "    }\n",
       "</style>\n",
       "<table border=\"1\" class=\"dataframe\">\n",
       "  <thead>\n",
       "    <tr style=\"text-align: right;\">\n",
       "      <th></th>\n",
       "      <th>Model</th>\n",
       "      <th>MSE (Train)</th>\n",
       "      <th>MSE (Test)</th>\n",
       "      <th>R2 (Train)</th>\n",
       "      <th>R2 (Test)</th>\n",
       "    </tr>\n",
       "  </thead>\n",
       "  <tbody>\n",
       "    <tr>\n",
       "      <th>0</th>\n",
       "      <td>Polynomal Regression (no regularisation)</td>\n",
       "      <td>110951.660347</td>\n",
       "      <td>108532.050081</td>\n",
       "      <td>0.710097</td>\n",
       "      <td>0.711447</td>\n",
       "    </tr>\n",
       "    <tr>\n",
       "      <th>1</th>\n",
       "      <td>Polynomial Ridge Regression</td>\n",
       "      <td>110048.875716</td>\n",
       "      <td>108366.991155</td>\n",
       "      <td>0.712456</td>\n",
       "      <td>0.711886</td>\n",
       "    </tr>\n",
       "    <tr>\n",
       "      <th>2</th>\n",
       "      <td>Decision Tree Regressor</td>\n",
       "      <td>0.000000</td>\n",
       "      <td>103281.585395</td>\n",
       "      <td>1.000000</td>\n",
       "      <td>0.725406</td>\n",
       "    </tr>\n",
       "    <tr>\n",
       "      <th>3</th>\n",
       "      <td>Random Forest Regressor</td>\n",
       "      <td>7250.720326</td>\n",
       "      <td>51124.551652</td>\n",
       "      <td>0.981055</td>\n",
       "      <td>0.864076</td>\n",
       "    </tr>\n",
       "  </tbody>\n",
       "</table>\n",
       "</div>"
      ],
      "text/plain": [
       "                                      Model    MSE (Train)     MSE (Test)  \\\n",
       "0  Polynomal Regression (no regularisation)  110951.660347  108532.050081   \n",
       "1               Polynomial Ridge Regression  110048.875716  108366.991155   \n",
       "2                   Decision Tree Regressor       0.000000  103281.585395   \n",
       "3                   Random Forest Regressor    7250.720326   51124.551652   \n",
       "\n",
       "   R2 (Train)  R2 (Test)  \n",
       "0    0.710097   0.711447  \n",
       "1    0.712456   0.711886  \n",
       "2    1.000000   0.725406  \n",
       "3    0.981055   0.864076  "
      ]
     },
     "execution_count": 124,
     "metadata": {},
     "output_type": "execute_result"
    }
   ],
   "source": [
    "advanced_model_performance = {\n",
    "    \"Model\": [\n",
    "        \"Polynomal Regression (no regularisation)\", \"Polynomial Ridge Regression\",\n",
    "        \"Decision Tree Regressor\", \"Random Forest Regressor\"\n",
    "    ],\n",
    "    \"MSE (Train)\": [mse_train_lin, mse_train_ridge, mse_train_tree, mse_train_forest],\n",
    "    \"MSE (Test)\": [mse_test_lin, mse_test_ridge, mse_test_tree, mse_test_forest],\n",
    "    \"R2 (Train)\": [r2_train_lin, r2_train_ridge, r2_train_tree, r2_train_forest],\n",
    "    \"R2 (Test)\": [r2_test_lin, r2_test_ridge, r2_test_tree, r2_test_forest]\n",
    "}\n",
    "\n",
    "results_df_advanced = pd.DataFrame(advanced_model_performance)\n",
    "results_df_advanced"
   ]
  },
  {
   "cell_type": "markdown",
   "id": "e5b56038-3c10-4f92-8c06-a5f8e4add126",
   "metadata": {
    "jp-MarkdownHeadingCollapsed": true
   },
   "source": [
    "#### Полиномиальная регрессия с регуляризацией\n",
    "С регуляризацией Ridge и без нее — схожие результаты:\n",
    "Ошибка на тестовой выборке (MSE) около 108,000, а на обучающей — около 110,000. R² около 0.71.\n",
    "Регуляризация Ridge помогает снизить переобучение, но точность модели остается на уровне, похожем на линейную регрессию. Это говорит о том, что хотя модель и становится более стабильной, прирост точности ограничен.\n",
    "\n",
    "#### Модель на основе дерева решений:\n",
    "На обучающей выборке MSE = 0, и R² = 1.0, что говорит о полном переобучении модели на тренировочных данных.\n",
    "На тестовой выборке ошибка (MSE) составляет 103,000, а R² = 0.73. Это свидетельствует о том, что дерево решений склонно к переобучению: оно идеально подстраивается под тренировочные данные, но на тестовой выборке его точность ограничена.\n",
    "\n",
    "#### Модель на основе случайного леса:\n",
    "MSE на тестовой выборке составила 51,124, что значительно ниже ошибок других моделей.\n",
    "R² = 0.86 на тестовой выборке, что говорит о высоком уровне объяснения дисперсии целевого показателя.\n",
    "Случайный лес справляется лучше всего с задачей прогнозирования, поскольку сочетает преимущества нескольких деревьев решений, уменьшая переобучение и предоставляя более точные предсказания.\n",
    "\n",
    "**Выводы**: Случайный лес продемонстрировал наилучшее качество предсказаний, а регуляризация в полиномиальной регрессии помогает стабилизировать модель, но не дает значительного прироста точности."
   ]
  },
  {
   "cell_type": "markdown",
   "id": "d8fae32d-7a47-4840-9df8-5f36c68f2740",
   "metadata": {},
   "source": [
    "## 5. Сопоставим оценки важности показателей для разных моделей"
   ]
  },
  {
   "cell_type": "code",
   "execution_count": 127,
   "id": "de634fe8-4069-4b61-a00c-59be1a11a578",
   "metadata": {},
   "outputs": [],
   "source": [
    "tree_importances = pd.Series(tree_model.feature_importances_, index=X.columns).sort_values(ascending=False)\n",
    "forest_importances = pd.Series(forest_model.feature_importances_, index=X.columns).sort_values(ascending=False)\n",
    "lin_importances = pd.Series(lin_reg_model.coef_[:len(X.columns)], index=X.columns).sort_values(ascending=False)\n",
    "ridge_importances = pd.Series(ridge_model.coef_[:len(X.columns)], index=X.columns).sort_values(ascending=False)"
   ]
  },
  {
   "cell_type": "code",
   "execution_count": 130,
   "id": "e429777a-3825-4cb0-8c2b-3f0ad2c1603d",
   "metadata": {},
   "outputs": [
    {
     "data": {
      "text/html": [
       "<div>\n",
       "<style scoped>\n",
       "    .dataframe tbody tr th:only-of-type {\n",
       "        vertical-align: middle;\n",
       "    }\n",
       "\n",
       "    .dataframe tbody tr th {\n",
       "        vertical-align: top;\n",
       "    }\n",
       "\n",
       "    .dataframe thead th {\n",
       "        text-align: right;\n",
       "    }\n",
       "</style>\n",
       "<table border=\"1\" class=\"dataframe\">\n",
       "  <thead>\n",
       "    <tr style=\"text-align: right;\">\n",
       "      <th></th>\n",
       "      <th>Decision Tree Importance</th>\n",
       "      <th>Random Forest Importance</th>\n",
       "      <th>Polynomial Ridge Coefficients</th>\n",
       "    </tr>\n",
       "  </thead>\n",
       "  <tbody>\n",
       "    <tr>\n",
       "      <th>Dew point temperature(°C)</th>\n",
       "      <td>0.031958</td>\n",
       "      <td>0.033859</td>\n",
       "      <td>165.074795</td>\n",
       "    </tr>\n",
       "    <tr>\n",
       "      <th>Functioning Day_Yes</th>\n",
       "      <td>0.098366</td>\n",
       "      <td>0.093663</td>\n",
       "      <td>6.215775</td>\n",
       "    </tr>\n",
       "    <tr>\n",
       "      <th>Holiday_No Holiday</th>\n",
       "      <td>0.003909</td>\n",
       "      <td>0.002980</td>\n",
       "      <td>0.977783</td>\n",
       "    </tr>\n",
       "    <tr>\n",
       "      <th>Hour</th>\n",
       "      <td>0.285907</td>\n",
       "      <td>0.284632</td>\n",
       "      <td>246.702304</td>\n",
       "    </tr>\n",
       "    <tr>\n",
       "      <th>Humidity(%)</th>\n",
       "      <td>0.096039</td>\n",
       "      <td>0.079410</td>\n",
       "      <td>-151.306397</td>\n",
       "    </tr>\n",
       "    <tr>\n",
       "      <th>Rainfall(mm)</th>\n",
       "      <td>0.023293</td>\n",
       "      <td>0.039288</td>\n",
       "      <td>-293.816265</td>\n",
       "    </tr>\n",
       "    <tr>\n",
       "      <th>Seasons_Spring</th>\n",
       "      <td>0.008658</td>\n",
       "      <td>0.010613</td>\n",
       "      <td>-16.548280</td>\n",
       "    </tr>\n",
       "    <tr>\n",
       "      <th>Seasons_Summer</th>\n",
       "      <td>0.001983</td>\n",
       "      <td>0.002661</td>\n",
       "      <td>80.384741</td>\n",
       "    </tr>\n",
       "    <tr>\n",
       "      <th>Seasons_Winter</th>\n",
       "      <td>0.026422</td>\n",
       "      <td>0.027501</td>\n",
       "      <td>-87.559802</td>\n",
       "    </tr>\n",
       "    <tr>\n",
       "      <th>Snowfall (cm)</th>\n",
       "      <td>0.000279</td>\n",
       "      <td>0.000218</td>\n",
       "      <td>-19.873914</td>\n",
       "    </tr>\n",
       "    <tr>\n",
       "      <th>Solar Radiation (MJ/m2)</th>\n",
       "      <td>0.092232</td>\n",
       "      <td>0.085691</td>\n",
       "      <td>40.163828</td>\n",
       "    </tr>\n",
       "    <tr>\n",
       "      <th>Temperature(°C)</th>\n",
       "      <td>0.291550</td>\n",
       "      <td>0.299493</td>\n",
       "      <td>-14.535248</td>\n",
       "    </tr>\n",
       "    <tr>\n",
       "      <th>Visibility (10m)</th>\n",
       "      <td>0.022163</td>\n",
       "      <td>0.021873</td>\n",
       "      <td>3.633919</td>\n",
       "    </tr>\n",
       "    <tr>\n",
       "      <th>Wind speed (m/s)</th>\n",
       "      <td>0.017241</td>\n",
       "      <td>0.018118</td>\n",
       "      <td>15.874961</td>\n",
       "    </tr>\n",
       "  </tbody>\n",
       "</table>\n",
       "</div>"
      ],
      "text/plain": [
       "                           Decision Tree Importance  Random Forest Importance  \\\n",
       "Dew point temperature(°C)                  0.031958                  0.033859   \n",
       "Functioning Day_Yes                        0.098366                  0.093663   \n",
       "Holiday_No Holiday                         0.003909                  0.002980   \n",
       "Hour                                       0.285907                  0.284632   \n",
       "Humidity(%)                                0.096039                  0.079410   \n",
       "Rainfall(mm)                               0.023293                  0.039288   \n",
       "Seasons_Spring                             0.008658                  0.010613   \n",
       "Seasons_Summer                             0.001983                  0.002661   \n",
       "Seasons_Winter                             0.026422                  0.027501   \n",
       "Snowfall (cm)                              0.000279                  0.000218   \n",
       "Solar Radiation (MJ/m2)                    0.092232                  0.085691   \n",
       "Temperature(°C)                            0.291550                  0.299493   \n",
       "Visibility (10m)                           0.022163                  0.021873   \n",
       "Wind speed (m/s)                           0.017241                  0.018118   \n",
       "\n",
       "                           Polynomial Ridge Coefficients  \n",
       "Dew point temperature(°C)                     165.074795  \n",
       "Functioning Day_Yes                             6.215775  \n",
       "Holiday_No Holiday                              0.977783  \n",
       "Hour                                          246.702304  \n",
       "Humidity(%)                                  -151.306397  \n",
       "Rainfall(mm)                                 -293.816265  \n",
       "Seasons_Spring                                -16.548280  \n",
       "Seasons_Summer                                 80.384741  \n",
       "Seasons_Winter                                -87.559802  \n",
       "Snowfall (cm)                                 -19.873914  \n",
       "Solar Radiation (MJ/m2)                        40.163828  \n",
       "Temperature(°C)                               -14.535248  \n",
       "Visibility (10m)                                3.633919  \n",
       "Wind speed (m/s)                               15.874961  "
      ]
     },
     "execution_count": 130,
     "metadata": {},
     "output_type": "execute_result"
    }
   ],
   "source": [
    "importance_df = pd.DataFrame({\n",
    "    \"Decision Tree Importance\": tree_importances,\n",
    "    \"Random Forest Importance\": forest_importances,\n",
    "    \"Polynomial Ridge Coefficients\": ridge_importances,\n",
    "})\n",
    "importance_df"
   ]
  },
  {
   "cell_type": "markdown",
   "id": "3b663027-aafd-462c-a001-bfed3bb9abb8",
   "metadata": {},
   "source": [
    "**Час суток (Hour)** является наиболее значимым показателем во всех моделях. Это ожидаемо, поскольку временные факторы оказывают значительное влияние на использование велосипедов.\n",
    "\n",
    "**Рабочий день (Functioning Day_Yes)** и **влажность (Humidity(%))** также оказывают заметное влияние. В модели случайного леса они имеют значительное влияние, тогда как в полиномиальной регрессии влажность проявляется через отрицательный коэффициент.\n",
    "\n",
    "**Температура (Temperature(°C))** и **точка росы (Dew point temperature(°C))** демонстрируют различное влияние в моделях. \\\n",
    "В полиномиальной регрессии эти показатели имеют высокие коэффициенты, особенно в Ridge, что подчеркивает их важность. \\\n",
    "В деревьях решений и случайном лесе их влияние менее выражено, так как эти модели могут учитывать их нелинейные взаимодействия."
   ]
  }
 ],
 "metadata": {
  "kernelspec": {
   "display_name": "Python (myenv)",
   "language": "python",
   "name": "myenv"
  },
  "language_info": {
   "codemirror_mode": {
    "name": "ipython",
    "version": 3
   },
   "file_extension": ".py",
   "mimetype": "text/x-python",
   "name": "python",
   "nbconvert_exporter": "python",
   "pygments_lexer": "ipython3",
   "version": "3.12.5"
  }
 },
 "nbformat": 4,
 "nbformat_minor": 5
}
